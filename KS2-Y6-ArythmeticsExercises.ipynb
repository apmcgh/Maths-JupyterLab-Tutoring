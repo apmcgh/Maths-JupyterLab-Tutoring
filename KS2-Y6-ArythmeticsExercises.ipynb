{
 "cells": [
  {
   "cell_type": "code",
   "execution_count": 72,
   "id": "broke-conditioning",
   "metadata": {},
   "outputs": [
    {
     "data": {
      "text/markdown": [
       "|A|op|B||A op B|\n",
       "|-:|:-:|-:|:-:|-:|\n",
       "|7095|$-$|42|$=$||\n",
       "|5909|$-$|78|$=$||\n",
       "|2051|$-$|26|$=$||\n",
       "|3562|$-$|49|$=$||\n",
       "|3460|$-$|62|$=$||\n",
       "|9263|$-$|47|$=$||\n",
       "|8933|$-$|40|$=$||"
      ],
      "text/plain": [
       "<IPython.core.display.Markdown object>"
      ]
     },
     "metadata": {},
     "output_type": "display_data"
    }
   ],
   "source": [
    "import random, operator\n",
    "from IPython.display import display, Markdown, Latex\n",
    "\n",
    "def Pairs(n, am, aM, bm, bM):\n",
    "    return [\n",
    "        [random.randint(am, aM), random.randint(bm, bM)]\n",
    "        for _ in range(n)\n",
    "    ]\n",
    "\n",
    "def Display(pairs, operation, result):\n",
    "    display(Markdown(\n",
    "        '|A|op|B||A op B|\\n' +\n",
    "        '|-:|:-:|-:|:-:|-:|\\n' +\n",
    "        '\\n'.join(\n",
    "            f'|{a}|{opt[operation][0]}|{b}|$=$|' + eval('f\"' + opt[operation][1] + '\"') + '|'\n",
    "            if result else\n",
    "            f'|{a}|{opt[operation][0]}|{b}|$=$||'\n",
    "            for a,b in pairs\n",
    "        )\n",
    "    ))\n",
    "\n",
    "opt = {\n",
    "    '*': ['$\\\\times$', '{a*b}'],\n",
    "    '+': ['$+$',       '{a+b}'],\n",
    "    '-': ['$-$',       '{a-b}'],\n",
    "    '/': ['$\\\\div$',   '{a//b} r{a%b}'],\n",
    "    '^': ['^',         '{a**b}'],\n",
    "}\n",
    "\n",
    "p  = Pairs(7, 1000, 9999, 10, 99)\n",
    "\n",
    "Display(p, '-', False)"
   ]
  },
  {
   "cell_type": "code",
   "execution_count": 73,
   "id": "combined-auction",
   "metadata": {},
   "outputs": [
    {
     "data": {
      "text/markdown": [
       "|A|op|B||A op B|\n",
       "|-:|:-:|-:|:-:|-:|\n",
       "|7095|$-$|42|$=$|7053|\n",
       "|5909|$-$|78|$=$|5831|\n",
       "|2051|$-$|26|$=$|2025|\n",
       "|3562|$-$|49|$=$|3513|\n",
       "|3460|$-$|62|$=$|3398|\n",
       "|9263|$-$|47|$=$|9216|\n",
       "|8933|$-$|40|$=$|8893|"
      ],
      "text/plain": [
       "<IPython.core.display.Markdown object>"
      ]
     },
     "metadata": {},
     "output_type": "display_data"
    }
   ],
   "source": [
    "Display(p, '-', True)"
   ]
  }
 ],
 "metadata": {
  "kernelspec": {
   "display_name": "Python 3",
   "language": "python",
   "name": "python3"
  },
  "language_info": {
   "codemirror_mode": {
    "name": "ipython",
    "version": 3
   },
   "file_extension": ".py",
   "mimetype": "text/x-python",
   "name": "python",
   "nbconvert_exporter": "python",
   "pygments_lexer": "ipython3",
   "version": "3.6.9"
  }
 },
 "nbformat": 4,
 "nbformat_minor": 5
}
