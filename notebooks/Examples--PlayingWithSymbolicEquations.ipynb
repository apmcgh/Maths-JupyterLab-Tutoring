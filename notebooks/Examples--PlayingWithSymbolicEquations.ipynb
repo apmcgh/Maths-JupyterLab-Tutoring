{
 "cells": [
  {
   "cell_type": "code",
   "execution_count": 1,
   "id": "beneficial-point",
   "metadata": {
    "tags": []
   },
   "outputs": [],
   "source": [
    "import IPython as i\n",
    "#print(i.core.getipython.get_ipython().get_parent().values())\n",
    "#print(get_ipython().get_parent().items())\n",
    "#help(i.core.oinspect.inspect.currentframe())\n",
    "#help(i.core.oinspect.inspect)"
   ]
  },
  {
   "cell_type": "markdown",
   "id": "divided-difference",
   "metadata": {},
   "source": [
    "$f(x) = \\frac{9}{x^2}-8\\sqrt{x}+4x-5$"
   ]
  },
  {
   "cell_type": "code",
   "execution_count": 213,
   "id": "chubby-lover",
   "metadata": {},
   "outputs": [
    {
     "data": {
      "text/latex": [
       "$\\displaystyle \\left(2 - x^{2}\\right)^{3} = - x^{6} + 6 x^{4} - 12 x^{2} + 8$"
      ],
      "text/plain": [
       "<IPython.core.display.Math object>"
      ]
     },
     "metadata": {},
     "output_type": "display_data"
    },
    {
     "data": {
      "text/latex": [
       "$\\displaystyle \\frac d {dx}\\left( \\left(2 - x^{2}\\right)^{3} \\right) = - 6 x \\left(2 - x^{2}\\right)^{2}$"
      ],
      "text/plain": [
       "<IPython.core.display.Math object>"
      ]
     },
     "metadata": {},
     "output_type": "display_data"
    },
    {
     "data": {
      "text/latex": [
       "$\\displaystyle \\frac d {dx}\\left( - x^{6} + 6 x^{4} - 12 x^{2} + 8 \\right) = - 6 x^{5} + 24 x^{3} - 24 x$"
      ],
      "text/plain": [
       "<IPython.core.display.Math object>"
      ]
     },
     "metadata": {},
     "output_type": "display_data"
    },
    {
     "data": {
      "text/latex": [
       "$\\displaystyle 2 x^{2} + 5 x - 3 = \\left(x + 3\\right) \\left(2 x - 1\\right)$"
      ],
      "text/plain": [
       "<IPython.core.display.Math object>"
      ]
     },
     "metadata": {},
     "output_type": "display_data"
    },
    {
     "data": {
      "text/latex": [
       "$\\displaystyle \\int \\left( 2 x^{2} + 5 x - 3 \\right) dx = \\frac{2 x^{3}}{3} + \\frac{5 x^{2}}{2} - 3 x$"
      ],
      "text/plain": [
       "<IPython.core.display.Math object>"
      ]
     },
     "metadata": {},
     "output_type": "display_data"
    },
    {
     "data": {
      "text/latex": [
       "$\\displaystyle \\frac d {dy}\\left( - x^{6} + 6 x^{4} y - 12 x^{2} y^{2} + 8 y^{3} \\right) = 6 x^{4} - 24 x^{2} y + 24 y^{2}$"
      ],
      "text/plain": [
       "<IPython.core.display.Math object>"
      ]
     },
     "metadata": {},
     "output_type": "display_data"
    },
    {
     "data": {
      "text/latex": [
       "$\\displaystyle \\frac d {dx}\\left( f^{2}{\\left(x \\right)} \\right) = 2 f{\\left(x \\right)} \\frac{d}{d x} f{\\left(x \\right)}$"
      ],
      "text/plain": [
       "<IPython.core.display.Math object>"
      ]
     },
     "metadata": {},
     "output_type": "display_data"
    },
    {
     "data": {
      "text/latex": [
       "$\\displaystyle \\int \\left( f{\\left(x \\right)} \\frac{d}{d x} f{\\left(x \\right)} \\right) dx = \\frac{f^{2}{\\left(x \\right)}}{2}$"
      ],
      "text/plain": [
       "<IPython.core.display.Math object>"
      ]
     },
     "metadata": {},
     "output_type": "display_data"
    },
    {
     "data": {
      "text/latex": [
       "$\\displaystyle \\frac d {dx}\\left( f{\\left(g{\\left(h{\\left(x \\right)} \\right)} \\right)} \\right) = \\frac{d}{d g{\\left(h{\\left(x \\right)} \\right)}} f{\\left(g{\\left(h{\\left(x \\right)} \\right)} \\right)} \\frac{d}{d h{\\left(x \\right)}} g{\\left(h{\\left(x \\right)} \\right)} \\frac{d}{d x} h{\\left(x \\right)}$"
      ],
      "text/plain": [
       "<IPython.core.display.Math object>"
      ]
     },
     "metadata": {},
     "output_type": "display_data"
    },
    {
     "data": {
      "text/latex": [
       "$\\displaystyle \\left. \\left(2 - x^{2}\\right)^{3} \\right| \\left( {x: 0} \\right) = 8.0$"
      ],
      "text/plain": [
       "<IPython.core.display.Math object>"
      ]
     },
     "metadata": {},
     "output_type": "display_data"
    },
    {
     "data": {
      "image/png": "[encoded data removed]",
      "text/latex": [
       "$\\displaystyle 8.0$"
      ],
      "text/plain": [
       "8.00000000000000"
      ]
     },
     "execution_count": 213,
     "metadata": {},
     "output_type": "execute_result"
    }
   ],
   "source": [
    "import sympy as sp\n",
    "import IPython.display as ipd\n",
    "sp.init_printing()\n",
    "\n",
    "x, y, z, t, a, b, c, b, α, β, γ, δ = sp.symbols('x y z t a b c b α β γ δ')\n",
    "j, k, l, m, n = sp.symbols('j k l m n', integer=True)\n",
    "f, g, h = sp.symbols('f g h', cls=sp.Function)\n",
    "\n",
    "π=sp.pi\n",
    "e=sp.exp(1)\n",
    "i=sp.sqrt(-1)\n",
    "\n",
    "deco = {\n",
    "    #'diff': '\\\\left( {o} \\\\right)^\\\\prime',\n",
    "    'diff': '\\\\frac d {{d{a[0]}}}\\\\left( {o} \\\\right)',\n",
    "    'integrate': '\\\\int \\\\left( {o} \\\\right) d{a[0]}',\n",
    "    'evalf': '\\\\left. {o} \\\\right| \\\\left( {subs} \\\\right)',\n",
    "}\n",
    "\n",
    "def lp(objs):\n",
    "    display(ipd.Math(\" \".join(o if type(o) is str else sp.latex(o) for o in objs)))\n",
    "\n",
    "def px(obj, d, f, *args, **kwargs):\n",
    "    result = getattr(obj, f)(*args, **kwargs)\n",
    "    if d or f in deco:\n",
    "        if not d:\n",
    "            d = deco[f]\n",
    "        display(ipd.Math(d.format(o=sp.latex(obj), a=args, **kwargs) + ' = ' + sp.latex(result)))\n",
    "    else:\n",
    "        lp([obj, '=', result])\n",
    "    return result\n",
    "\n",
    "p = (2-x**2)**3\n",
    "px(p, '', 'expand')\n",
    "px(p, '', 'diff', x)\n",
    "px(p.expand(), '', 'diff', x)\n",
    "\n",
    "p2 = 2*x**2+5*x-3\n",
    "px(p2, '', 'factor')\n",
    "px(p2, '', 'integrate', x)\n",
    "\n",
    "px(((2*y-x**2)**3).expand(), '', 'diff', y)\n",
    "\n",
    "px(f(x)**2, '', 'diff', x)\n",
    "px(f(x)*f(x).diff(x), '', 'integrate', x)\n",
    "px(f(g(h(x))), '', 'diff', x)\n",
    "\n",
    "p.evalf(subs={x: 0})\n",
    "px(p, '', 'evalf', subs={x: 0})"
   ]
  },
  {
   "cell_type": "markdown",
   "id": "exotic-wireless",
   "metadata": {},
   "source": [
    "$Reminder:\n",
    "\\newline\n",
    "log \\left( x^n \\right) = n \\cdot log \\left( x \\right)\n",
    "\\newline\\,\n",
    "\\newline\n",
    "Statement:\n",
    "\\newline\n",
    "(A): x = a^y\n",
    "\\newline\n",
    "(B): x = b^{v \\cdot y} = \\left( b^y \\right)^v\n",
    "\\newline\\,\n",
    "\\newline\n",
    "Developing:\n",
    "\\newline\n",
    "(A \\& B) \\implies a = b^v \\implies v = log_b a\n",
    "\\newline\\,\n",
    "\\newline\n",
    "(A) \\implies y = log_a x\n",
    "\\newline\\,\n",
    "\\newline\n",
    "(B) \\implies b^y = x^{\\frac 1 v} \\implies y = log_b {x^{\\frac 1 v}} = {\\frac 1 v} log_b x = \\frac {log_b x} {log_b a}\n",
    "\\newline\\,\n",
    "\\newline\n",
    "Conclusion:\n",
    "\\newline\n",
    "log_a x = \\frac {log_b x} {log_b a}\n",
    "\\newline\n",
    "This\\ is\\ called\\ a\\ base\\ change.\n",
    "$"
   ]
  }
 ],
 "metadata": {
  "kernelspec": {
   "display_name": "Python 3",
   "language": "python",
   "name": "python3"
  },
  "language_info": {
   "codemirror_mode": {
    "name": "ipython",
    "version": 3
   },
   "file_extension": ".py",
   "mimetype": "text/x-python",
   "name": "python",
   "nbconvert_exporter": "python",
   "pygments_lexer": "ipython3",
   "version": "3.6.9"
  },
  "toc-showcode": false,
  "toc-showmarkdowntxt": true,
  "toc-showtags": false
 },
 "nbformat": 4,
 "nbformat_minor": 5
}
