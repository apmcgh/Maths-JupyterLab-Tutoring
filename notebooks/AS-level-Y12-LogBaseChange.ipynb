{
 "cells": [
  {
   "cell_type": "markdown",
   "id": "divided-rover",
   "metadata": {},
   "source": [
    "Reminder:   \n",
    "$log \\left( x^n \\right) = n \\cdot log \\left( x \\right)$\n",
    "\n",
    "True in any base.\n",
    "\n",
    "\n",
    "Statements:   \n",
    "$(A): x = a^y$   \n",
    "$(B): x = b^{v \\cdot y} = \\left( b^y \\right)^v$\n",
    "\n",
    "Developing:   \n",
    "$(A \\& B) \\implies a = b^v \\implies v = log_b a$\n",
    "\n",
    "$(A) \\implies y = log_a x$   \n",
    "$(B) \\implies b^y = x^{\\frac 1 v} \\implies y = log_b {x^{\\frac 1 v}} = {\\frac 1 v} log_b x = \\frac {log_b x} {log_b a}$\n",
    "\n",
    "Conclusion:   \n",
    "$\\Large log_a x = \\frac {log_b x} {log_b a}$   \n",
    "\n",
    "$\\Large log_b x = \\frac {log_a x} {log_a b}$   \n",
    "\n",
    "$\\Large log_a x = \\frac {log_b x} {log_b a} = \\frac {log_a x} {log_a b \\cdot {log_b a}}$   \n",
    "\n",
    "$\\Large log_a b = \\frac 1 {log_b a}$\n",
    "\n",
    "This is called a base change."
   ]
  }
 ],
 "metadata": {
  "kernelspec": {
   "display_name": "Python 3",
   "language": "python",
   "name": "python3"
  },
  "language_info": {
   "codemirror_mode": {
    "name": "ipython",
    "version": 3
   },
   "file_extension": ".py",
   "mimetype": "text/x-python",
   "name": "python",
   "nbconvert_exporter": "python",
   "pygments_lexer": "ipython3",
   "version": "3.6.9"
  }
 },
 "nbformat": 4,
 "nbformat_minor": 5
}
