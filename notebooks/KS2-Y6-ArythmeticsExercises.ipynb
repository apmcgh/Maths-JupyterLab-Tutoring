{
 "cells": [
  {
   "cell_type": "code",
   "execution_count": 3,
   "id": "mighty-final",
   "metadata": {},
   "outputs": [
    {
     "data": {
      "text/markdown": [
       "|A|op|B||A op B|\n",
       "|-:|:-:|-:|:-:|-:|\n",
       "|7102|$-$|75|$=$||\n",
       "|1886|$-$|71|$=$||\n",
       "|2534|$-$|90|$=$||\n",
       "|3966|$-$|29|$=$||\n",
       "|2572|$-$|65|$=$||\n",
       "|9340|$-$|41|$=$||\n",
       "|7045|$-$|69|$=$||"
      ],
      "text/plain": [
       "<IPython.core.display.Markdown object>"
      ]
     },
     "metadata": {},
     "output_type": "display_data"
    }
   ],
   "source": [
    "import random, operator\n",
    "from IPython.display import display, Markdown, Latex\n",
    "\n",
    "def Pairs(n, am, aM, bm, bM):\n",
    "    return [\n",
    "        [random.randint(am, aM), random.randint(bm, bM)]\n",
    "        for _ in range(n)\n",
    "    ]\n",
    "\n",
    "def Display(pairs, operation, result):\n",
    "    display(Markdown(\n",
    "        '|A|op|B||A op B|\\n' +\n",
    "        '|-:|:-:|-:|:-:|-:|\\n' +\n",
    "        '\\n'.join(\n",
    "            f'|{a}|{opt[operation][0]}|{b}|$=$|' + eval('f\"' + opt[operation][1] + '\"') + '|'\n",
    "            if result else\n",
    "            f'|{a}|{opt[operation][0]}|{b}|$=$||'\n",
    "            for a,b in pairs\n",
    "        )\n",
    "    ))\n",
    "\n",
    "opt = {\n",
    "    '*': ['$\\\\times$', '{a*b}'],\n",
    "    '+': ['$+$',       '{a+b}'],\n",
    "    '-': ['$-$',       '{a-b}'],\n",
    "    '/': ['$\\\\div$',   '{a//b} r{a%b}'],\n",
    "    '^': ['^',         '{a**b}'],\n",
    "}\n",
    "\n",
    "# Choose random pairs of numbers\n",
    "#   1/    number of pairs\n",
    "#   2&3/  min and max for the first number\n",
    "#   4&5/  min and max for the second number\n",
    "pairs  = Pairs(7, 1000, 9999, 10, 99)\n",
    "\n",
    "# Display a table showing the pairs, the operation to practice\n",
    "# Do not show the results\n",
    "operation = '-'\n",
    "Display(pairs, operation, False)"
   ]
  },
  {
   "cell_type": "code",
   "execution_count": 6,
   "id": "valued-context",
   "metadata": {},
   "outputs": [
    {
     "data": {
      "text/markdown": [
       "|A|op|B||A op B|\n",
       "|-:|:-:|-:|:-:|-:|\n",
       "|7102|$-$|75|$=$|7027|\n",
       "|1886|$-$|71|$=$|1815|\n",
       "|2534|$-$|90|$=$|2444|\n",
       "|3966|$-$|29|$=$|3937|\n",
       "|2572|$-$|65|$=$|2507|\n",
       "|9340|$-$|41|$=$|9299|\n",
       "|7045|$-$|69|$=$|6976|"
      ],
      "text/plain": [
       "<IPython.core.display.Markdown object>"
      ]
     },
     "metadata": {},
     "output_type": "display_data"
    }
   ],
   "source": [
    "# Uncomment to show the results\n",
    "Display(pairs, operation, True)"
   ]
  }
 ],
 "metadata": {
  "kernelspec": {
   "display_name": "Python 3",
   "language": "python",
   "name": "python3"
  },
  "language_info": {
   "codemirror_mode": {
    "name": "ipython",
    "version": 3
   },
   "file_extension": ".py",
   "mimetype": "text/x-python",
   "name": "python",
   "nbconvert_exporter": "python",
   "pygments_lexer": "ipython3",
   "version": "3.6.9"
  }
 },
 "nbformat": 4,
 "nbformat_minor": 5
}
